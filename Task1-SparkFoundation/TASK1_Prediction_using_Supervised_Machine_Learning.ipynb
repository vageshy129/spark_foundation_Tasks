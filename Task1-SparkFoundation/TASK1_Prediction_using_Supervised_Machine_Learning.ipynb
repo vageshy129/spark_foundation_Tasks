{
  "nbformat": 4,
  "nbformat_minor": 0,
  "metadata": {
    "colab": {
      "name": "TASK1-Prediction_using_Supervised_Machine_Learning.ipynb",
      "provenance": []
    },
    "kernelspec": {
      "name": "python3",
      "display_name": "Python 3"
    },
    "language_info": {
      "name": "python"
    }
  },
  "cells": [
    {
      "cell_type": "markdown",
      "metadata": {
        "id": "4fJ1DLe1ZPhZ"
      },
      "source": [
        "# **The Sparks Foundation Graduate Rotational Internship Program on Data Science & Busines Analytics**"
      ]
    },
    {
      "cell_type": "markdown",
      "metadata": {
        "id": "W16BT5nyBSXL"
      },
      "source": [
        "## **TASK1: Prediction using Supervised Machine Learning**"
      ]
    },
    {
      "cell_type": "markdown",
      "metadata": {
        "id": "wfnWtvu2xw_W"
      },
      "source": [
        "# **NAME: VAGESH YAGGATI**\n",
        "Email-id: vagesh129@gmail.com"
      ]
    },
    {
      "cell_type": "markdown",
      "metadata": {
        "id": "MWEfFoA7TNo2"
      },
      "source": [
        "## **Business CASE:**"
      ]
    },
    {
      "cell_type": "markdown",
      "metadata": {
        "id": "VI_Oo4H6D55C"
      },
      "source": [
        " *   Predict the percentage of an student based on the no. of study hours\n",
        " *   This is a simple linear regression task as it involves just 2 variables.\n",
        " \n",
        "\n",
        "\n",
        "\n",
        "\n"
      ]
    },
    {
      "cell_type": "markdown",
      "metadata": {
        "id": "kBu0Y3qh-5TT"
      },
      "source": [
        "# **Task**:   What will be predicted score if a student studies for 9.25 hrs/ day?"
      ]
    },
    {
      "cell_type": "markdown",
      "metadata": {
        "id": "pSX5JQMgEAMi"
      },
      "source": [
        "#**Domian Analysis:**"
      ]
    },
    {
      "cell_type": "markdown",
      "metadata": {
        "id": "_L0yK0ZLFefk"
      },
      "source": [
        "#### **Hours:** A period of time equal to a twenty-fourth part of a day and night and divided into 60 minutes.\n",
        "#### **Scores:** Number of marks obtained by a student."
      ]
    },
    {
      "cell_type": "markdown",
      "metadata": {
        "id": "AHgcVrU2Go7q"
      },
      "source": [
        "#**Importing necessary libraries for the task**"
      ]
    },
    {
      "cell_type": "code",
      "metadata": {
        "id": "4zUcfOWwPoCG"
      },
      "source": [
        "import numpy as np # for math operations\n",
        "import pandas as pd # for data manipulation and analysis\n",
        "import seaborn as sns # statistical graphics.\n",
        "import matplotlib.pyplot as plt #for 2D graphics (visualisation)\n",
        "%matplotlib inline"
      ],
      "execution_count": 1,
      "outputs": []
    },
    {
      "cell_type": "markdown",
      "metadata": {
        "id": "Cdxu1C8fHs-D"
      },
      "source": [
        "## **Extracting the data from the Given link:**"
      ]
    },
    {
      "cell_type": "code",
      "metadata": {
        "colab": {
          "base_uri": "https://localhost:8080/",
          "height": 821
        },
        "id": "U8WtsR5mS5xE",
        "outputId": "c48b17d3-8acd-46bb-bc73-af47c568a400"
      },
      "source": [
        "data=pd.read_csv('https://raw.githubusercontent.com/AdiPersonalWorks/Random/master/student_scores%20-%20student_scores.csv')\n",
        "data"
      ],
      "execution_count": 2,
      "outputs": [
        {
          "output_type": "execute_result",
          "data": {
            "text/html": [
              "<div>\n",
              "<style scoped>\n",
              "    .dataframe tbody tr th:only-of-type {\n",
              "        vertical-align: middle;\n",
              "    }\n",
              "\n",
              "    .dataframe tbody tr th {\n",
              "        vertical-align: top;\n",
              "    }\n",
              "\n",
              "    .dataframe thead th {\n",
              "        text-align: right;\n",
              "    }\n",
              "</style>\n",
              "<table border=\"1\" class=\"dataframe\">\n",
              "  <thead>\n",
              "    <tr style=\"text-align: right;\">\n",
              "      <th></th>\n",
              "      <th>Hours</th>\n",
              "      <th>Scores</th>\n",
              "    </tr>\n",
              "  </thead>\n",
              "  <tbody>\n",
              "    <tr>\n",
              "      <th>0</th>\n",
              "      <td>2.5</td>\n",
              "      <td>21</td>\n",
              "    </tr>\n",
              "    <tr>\n",
              "      <th>1</th>\n",
              "      <td>5.1</td>\n",
              "      <td>47</td>\n",
              "    </tr>\n",
              "    <tr>\n",
              "      <th>2</th>\n",
              "      <td>3.2</td>\n",
              "      <td>27</td>\n",
              "    </tr>\n",
              "    <tr>\n",
              "      <th>3</th>\n",
              "      <td>8.5</td>\n",
              "      <td>75</td>\n",
              "    </tr>\n",
              "    <tr>\n",
              "      <th>4</th>\n",
              "      <td>3.5</td>\n",
              "      <td>30</td>\n",
              "    </tr>\n",
              "    <tr>\n",
              "      <th>5</th>\n",
              "      <td>1.5</td>\n",
              "      <td>20</td>\n",
              "    </tr>\n",
              "    <tr>\n",
              "      <th>6</th>\n",
              "      <td>9.2</td>\n",
              "      <td>88</td>\n",
              "    </tr>\n",
              "    <tr>\n",
              "      <th>7</th>\n",
              "      <td>5.5</td>\n",
              "      <td>60</td>\n",
              "    </tr>\n",
              "    <tr>\n",
              "      <th>8</th>\n",
              "      <td>8.3</td>\n",
              "      <td>81</td>\n",
              "    </tr>\n",
              "    <tr>\n",
              "      <th>9</th>\n",
              "      <td>2.7</td>\n",
              "      <td>25</td>\n",
              "    </tr>\n",
              "    <tr>\n",
              "      <th>10</th>\n",
              "      <td>7.7</td>\n",
              "      <td>85</td>\n",
              "    </tr>\n",
              "    <tr>\n",
              "      <th>11</th>\n",
              "      <td>5.9</td>\n",
              "      <td>62</td>\n",
              "    </tr>\n",
              "    <tr>\n",
              "      <th>12</th>\n",
              "      <td>4.5</td>\n",
              "      <td>41</td>\n",
              "    </tr>\n",
              "    <tr>\n",
              "      <th>13</th>\n",
              "      <td>3.3</td>\n",
              "      <td>42</td>\n",
              "    </tr>\n",
              "    <tr>\n",
              "      <th>14</th>\n",
              "      <td>1.1</td>\n",
              "      <td>17</td>\n",
              "    </tr>\n",
              "    <tr>\n",
              "      <th>15</th>\n",
              "      <td>8.9</td>\n",
              "      <td>95</td>\n",
              "    </tr>\n",
              "    <tr>\n",
              "      <th>16</th>\n",
              "      <td>2.5</td>\n",
              "      <td>30</td>\n",
              "    </tr>\n",
              "    <tr>\n",
              "      <th>17</th>\n",
              "      <td>1.9</td>\n",
              "      <td>24</td>\n",
              "    </tr>\n",
              "    <tr>\n",
              "      <th>18</th>\n",
              "      <td>6.1</td>\n",
              "      <td>67</td>\n",
              "    </tr>\n",
              "    <tr>\n",
              "      <th>19</th>\n",
              "      <td>7.4</td>\n",
              "      <td>69</td>\n",
              "    </tr>\n",
              "    <tr>\n",
              "      <th>20</th>\n",
              "      <td>2.7</td>\n",
              "      <td>30</td>\n",
              "    </tr>\n",
              "    <tr>\n",
              "      <th>21</th>\n",
              "      <td>4.8</td>\n",
              "      <td>54</td>\n",
              "    </tr>\n",
              "    <tr>\n",
              "      <th>22</th>\n",
              "      <td>3.8</td>\n",
              "      <td>35</td>\n",
              "    </tr>\n",
              "    <tr>\n",
              "      <th>23</th>\n",
              "      <td>6.9</td>\n",
              "      <td>76</td>\n",
              "    </tr>\n",
              "    <tr>\n",
              "      <th>24</th>\n",
              "      <td>7.8</td>\n",
              "      <td>86</td>\n",
              "    </tr>\n",
              "  </tbody>\n",
              "</table>\n",
              "</div>"
            ],
            "text/plain": [
              "    Hours  Scores\n",
              "0     2.5      21\n",
              "1     5.1      47\n",
              "2     3.2      27\n",
              "3     8.5      75\n",
              "4     3.5      30\n",
              "5     1.5      20\n",
              "6     9.2      88\n",
              "7     5.5      60\n",
              "8     8.3      81\n",
              "9     2.7      25\n",
              "10    7.7      85\n",
              "11    5.9      62\n",
              "12    4.5      41\n",
              "13    3.3      42\n",
              "14    1.1      17\n",
              "15    8.9      95\n",
              "16    2.5      30\n",
              "17    1.9      24\n",
              "18    6.1      67\n",
              "19    7.4      69\n",
              "20    2.7      30\n",
              "21    4.8      54\n",
              "22    3.8      35\n",
              "23    6.9      76\n",
              "24    7.8      86"
            ]
          },
          "metadata": {
            "tags": []
          },
          "execution_count": 2
        }
      ]
    },
    {
      "cell_type": "markdown",
      "metadata": {
        "id": "6ycfkICeH9T4"
      },
      "source": [
        "# **Basic Checks:**"
      ]
    },
    {
      "cell_type": "code",
      "metadata": {
        "colab": {
          "base_uri": "https://localhost:8080/"
        },
        "id": "7vttDuH5T2AK",
        "outputId": "8a97b429-6a10-4719-ae0a-21ad9577812d"
      },
      "source": [
        "data.shape"
      ],
      "execution_count": 3,
      "outputs": [
        {
          "output_type": "execute_result",
          "data": {
            "text/plain": [
              "(25, 2)"
            ]
          },
          "metadata": {
            "tags": []
          },
          "execution_count": 3
        }
      ]
    },
    {
      "cell_type": "markdown",
      "metadata": {
        "id": "Z1HeWffRIOdl"
      },
      "source": [
        "The data consists 25 row and 2 columns"
      ]
    },
    {
      "cell_type": "code",
      "metadata": {
        "colab": {
          "base_uri": "https://localhost:8080/",
          "height": 204
        },
        "id": "07uPn9FwTa_p",
        "outputId": "46c2c745-2244-4d17-d400-6035a4af8685"
      },
      "source": [
        "data.head()"
      ],
      "execution_count": 4,
      "outputs": [
        {
          "output_type": "execute_result",
          "data": {
            "text/html": [
              "<div>\n",
              "<style scoped>\n",
              "    .dataframe tbody tr th:only-of-type {\n",
              "        vertical-align: middle;\n",
              "    }\n",
              "\n",
              "    .dataframe tbody tr th {\n",
              "        vertical-align: top;\n",
              "    }\n",
              "\n",
              "    .dataframe thead th {\n",
              "        text-align: right;\n",
              "    }\n",
              "</style>\n",
              "<table border=\"1\" class=\"dataframe\">\n",
              "  <thead>\n",
              "    <tr style=\"text-align: right;\">\n",
              "      <th></th>\n",
              "      <th>Hours</th>\n",
              "      <th>Scores</th>\n",
              "    </tr>\n",
              "  </thead>\n",
              "  <tbody>\n",
              "    <tr>\n",
              "      <th>0</th>\n",
              "      <td>2.5</td>\n",
              "      <td>21</td>\n",
              "    </tr>\n",
              "    <tr>\n",
              "      <th>1</th>\n",
              "      <td>5.1</td>\n",
              "      <td>47</td>\n",
              "    </tr>\n",
              "    <tr>\n",
              "      <th>2</th>\n",
              "      <td>3.2</td>\n",
              "      <td>27</td>\n",
              "    </tr>\n",
              "    <tr>\n",
              "      <th>3</th>\n",
              "      <td>8.5</td>\n",
              "      <td>75</td>\n",
              "    </tr>\n",
              "    <tr>\n",
              "      <th>4</th>\n",
              "      <td>3.5</td>\n",
              "      <td>30</td>\n",
              "    </tr>\n",
              "  </tbody>\n",
              "</table>\n",
              "</div>"
            ],
            "text/plain": [
              "   Hours  Scores\n",
              "0    2.5      21\n",
              "1    5.1      47\n",
              "2    3.2      27\n",
              "3    8.5      75\n",
              "4    3.5      30"
            ]
          },
          "metadata": {
            "tags": []
          },
          "execution_count": 4
        }
      ]
    },
    {
      "cell_type": "code",
      "metadata": {
        "colab": {
          "base_uri": "https://localhost:8080/",
          "height": 204
        },
        "id": "eqgRUtuLTeME",
        "outputId": "db4e5b3c-8581-46d5-92a7-7f43ed0a4afb"
      },
      "source": [
        "data.tail()"
      ],
      "execution_count": 5,
      "outputs": [
        {
          "output_type": "execute_result",
          "data": {
            "text/html": [
              "<div>\n",
              "<style scoped>\n",
              "    .dataframe tbody tr th:only-of-type {\n",
              "        vertical-align: middle;\n",
              "    }\n",
              "\n",
              "    .dataframe tbody tr th {\n",
              "        vertical-align: top;\n",
              "    }\n",
              "\n",
              "    .dataframe thead th {\n",
              "        text-align: right;\n",
              "    }\n",
              "</style>\n",
              "<table border=\"1\" class=\"dataframe\">\n",
              "  <thead>\n",
              "    <tr style=\"text-align: right;\">\n",
              "      <th></th>\n",
              "      <th>Hours</th>\n",
              "      <th>Scores</th>\n",
              "    </tr>\n",
              "  </thead>\n",
              "  <tbody>\n",
              "    <tr>\n",
              "      <th>20</th>\n",
              "      <td>2.7</td>\n",
              "      <td>30</td>\n",
              "    </tr>\n",
              "    <tr>\n",
              "      <th>21</th>\n",
              "      <td>4.8</td>\n",
              "      <td>54</td>\n",
              "    </tr>\n",
              "    <tr>\n",
              "      <th>22</th>\n",
              "      <td>3.8</td>\n",
              "      <td>35</td>\n",
              "    </tr>\n",
              "    <tr>\n",
              "      <th>23</th>\n",
              "      <td>6.9</td>\n",
              "      <td>76</td>\n",
              "    </tr>\n",
              "    <tr>\n",
              "      <th>24</th>\n",
              "      <td>7.8</td>\n",
              "      <td>86</td>\n",
              "    </tr>\n",
              "  </tbody>\n",
              "</table>\n",
              "</div>"
            ],
            "text/plain": [
              "    Hours  Scores\n",
              "20    2.7      30\n",
              "21    4.8      54\n",
              "22    3.8      35\n",
              "23    6.9      76\n",
              "24    7.8      86"
            ]
          },
          "metadata": {
            "tags": []
          },
          "execution_count": 5
        }
      ]
    },
    {
      "cell_type": "code",
      "metadata": {
        "colab": {
          "base_uri": "https://localhost:8080/"
        },
        "id": "07PGDFZTThmc",
        "outputId": "e9ed3a52-e416-4db5-f96f-9ce17a29904e"
      },
      "source": [
        "data.info()"
      ],
      "execution_count": 6,
      "outputs": [
        {
          "output_type": "stream",
          "text": [
            "<class 'pandas.core.frame.DataFrame'>\n",
            "RangeIndex: 25 entries, 0 to 24\n",
            "Data columns (total 2 columns):\n",
            " #   Column  Non-Null Count  Dtype  \n",
            "---  ------  --------------  -----  \n",
            " 0   Hours   25 non-null     float64\n",
            " 1   Scores  25 non-null     int64  \n",
            "dtypes: float64(1), int64(1)\n",
            "memory usage: 528.0 bytes\n"
          ],
          "name": "stdout"
        }
      ]
    },
    {
      "cell_type": "code",
      "metadata": {
        "colab": {
          "base_uri": "https://localhost:8080/",
          "height": 111
        },
        "id": "Lk9E8E1WTkpv",
        "outputId": "2c0f8ef6-78ef-4323-efcc-3d9fec548bd7"
      },
      "source": [
        "data.describe().T"
      ],
      "execution_count": 7,
      "outputs": [
        {
          "output_type": "execute_result",
          "data": {
            "text/html": [
              "<div>\n",
              "<style scoped>\n",
              "    .dataframe tbody tr th:only-of-type {\n",
              "        vertical-align: middle;\n",
              "    }\n",
              "\n",
              "    .dataframe tbody tr th {\n",
              "        vertical-align: top;\n",
              "    }\n",
              "\n",
              "    .dataframe thead th {\n",
              "        text-align: right;\n",
              "    }\n",
              "</style>\n",
              "<table border=\"1\" class=\"dataframe\">\n",
              "  <thead>\n",
              "    <tr style=\"text-align: right;\">\n",
              "      <th></th>\n",
              "      <th>count</th>\n",
              "      <th>mean</th>\n",
              "      <th>std</th>\n",
              "      <th>min</th>\n",
              "      <th>25%</th>\n",
              "      <th>50%</th>\n",
              "      <th>75%</th>\n",
              "      <th>max</th>\n",
              "    </tr>\n",
              "  </thead>\n",
              "  <tbody>\n",
              "    <tr>\n",
              "      <th>Hours</th>\n",
              "      <td>25.0</td>\n",
              "      <td>5.012</td>\n",
              "      <td>2.525094</td>\n",
              "      <td>1.1</td>\n",
              "      <td>2.7</td>\n",
              "      <td>4.8</td>\n",
              "      <td>7.4</td>\n",
              "      <td>9.2</td>\n",
              "    </tr>\n",
              "    <tr>\n",
              "      <th>Scores</th>\n",
              "      <td>25.0</td>\n",
              "      <td>51.480</td>\n",
              "      <td>25.286887</td>\n",
              "      <td>17.0</td>\n",
              "      <td>30.0</td>\n",
              "      <td>47.0</td>\n",
              "      <td>75.0</td>\n",
              "      <td>95.0</td>\n",
              "    </tr>\n",
              "  </tbody>\n",
              "</table>\n",
              "</div>"
            ],
            "text/plain": [
              "        count    mean        std   min   25%   50%   75%   max\n",
              "Hours    25.0   5.012   2.525094   1.1   2.7   4.8   7.4   9.2\n",
              "Scores   25.0  51.480  25.286887  17.0  30.0  47.0  75.0  95.0"
            ]
          },
          "metadata": {
            "tags": []
          },
          "execution_count": 7
        }
      ]
    },
    {
      "cell_type": "code",
      "metadata": {
        "colab": {
          "base_uri": "https://localhost:8080/"
        },
        "id": "HdE8GGw1To1n",
        "outputId": "bd24b32e-86db-4324-eb66-b77eb7e00b2f"
      },
      "source": [
        "data.isnull().sum()"
      ],
      "execution_count": 8,
      "outputs": [
        {
          "output_type": "execute_result",
          "data": {
            "text/plain": [
              "Hours     0\n",
              "Scores    0\n",
              "dtype: int64"
            ]
          },
          "metadata": {
            "tags": []
          },
          "execution_count": 8
        }
      ]
    },
    {
      "cell_type": "markdown",
      "metadata": {
        "id": "6vUMZxeZfmBo"
      },
      "source": [
        "# **Explainatory Data Analysis (EDA):**"
      ]
    },
    {
      "cell_type": "markdown",
      "metadata": {
        "id": "yIZRCTv4HIdM"
      },
      "source": [
        "# **Dataset Statistics:**"
      ]
    },
    {
      "cell_type": "markdown",
      "metadata": {
        "id": "1zeAS3fPHNpv"
      },
      "source": [
        "*   Number of Variables:\t2,\n",
        "*   Number of Rows:\t25,\n",
        "*   Missing Cells:\t0,\n",
        "*   Missing Cells (%):\t0.0%,\n",
        "*   Duplicate Rows:\t0,\n",
        "*   Duplicate Rows (%):\t0.0%,\n",
        "\n",
        "\n",
        "\n",
        "\n",
        "\n",
        "\n",
        "\n",
        "\n",
        "\n",
        "\n",
        "\n",
        "\n",
        "\n",
        "\n"
      ]
    },
    {
      "cell_type": "markdown",
      "metadata": {
        "id": "uWHiOM_DItW8"
      },
      "source": [
        "#  **Variable Types**\t\n",
        "\n",
        "      Numerical: 2     "
      ]
    },
    {
      "cell_type": "markdown",
      "metadata": {
        "id": "I7-u9oDAfyGU"
      },
      "source": [
        "# **Univariate Analysis**"
      ]
    },
    {
      "cell_type": "markdown",
      "metadata": {
        "id": "_qHMtLuvf9rJ"
      },
      "source": [
        "## **Hours**"
      ]
    },
    {
      "cell_type": "code",
      "metadata": {
        "colab": {
          "base_uri": "https://localhost:8080/",
          "height": 368
        },
        "id": "4axCuKaHOFSe",
        "outputId": "d6b3d6b9-0415-460b-dbc7-86620dfb6865"
      },
      "source": [
        "plt.figure(figsize=(10,5))\n",
        "data['Hours'].hist(bins=50)\n",
        "plt.title('Histogram ', fontsize=30)\n",
        "plt.xlabel('Hours',fontsize=15)\n",
        "plt.ylabel('Frequency',fontsize=15)\n",
        "plt.show()"
      ],
      "execution_count": 9,
      "outputs": [
        {
          "output_type": "display_data",
          "data": {
            "image/png": "[encoded data removed]",
            "text/plain": [
              "<Figure size 720x360 with 1 Axes>"
            ]
          },
          "metadata": {
            "tags": [],
            "needs_background": "light"
          }
        }
      ]
    },
    {
      "cell_type": "markdown",
      "metadata": {
        "id": "lcwU_CoYRM4p"
      },
      "source": [
        "# **Insights:**\n",
        ">Minimum value in the hours column is 1.1  and Maximum value in the hours is 9.9  .\n",
        "\n",
        ">Highest frequency  is in the 2.5 and 2.7 hours with 2 frequencies.\n",
        "\n",
        "**Descriptive Statistics**\n",
        "\n",
        ">Mean\t5.012\n",
        ">Standard Deviation\t2.5251\n",
        "\n",
        ">Variance\t6.3761\n",
        "\n",
        ">Sum\t125.3\n",
        "\n",
        ">Skewness\t0.1787\n",
        "\n",
        ">Kurtosis\t-1.2868\n",
        "\n",
        ">Coefficient of Variation\t0.5038.\n",
        "\n",
        "**Quantile Statistics**\n",
        "\n",
        "> Minimum\t1.1\n",
        "\n",
        ">5-th Percentile\t1.58\n",
        "\n",
        ">Q1\t2.7\n",
        "\n",
        ">Median\t4.8\n",
        "\n",
        ">Q3\t7.4\n",
        "\n",
        ">95-th Percentile\t8.82\n",
        "\n",
        ">Maximum\t9.2\n",
        "\n",
        ">Range\t8.1\n",
        "\n",
        ">IQR\t4.7\n"
      ]
    },
    {
      "cell_type": "markdown",
      "metadata": {
        "id": "iEYQlHJggyZD"
      },
      "source": [
        "## **Scores:**"
      ]
    },
    {
      "cell_type": "code",
      "metadata": {
        "colab": {
          "base_uri": "https://localhost:8080/",
          "height": 0
        },
        "id": "NTiuluawS4m9",
        "outputId": "aed8c893-3981-40bd-8807-3f52890f578c"
      },
      "source": [
        "plt.figure(figsize=(10,5))\n",
        "data['Scores'].hist(bins=50)\n",
        "plt.title('Histogram ', fontsize=30)\n",
        "plt.xlabel('Scores',fontsize=15)\n",
        "plt.ylabel('Frequency',fontsize=15)\n",
        "plt.show()"
      ],
      "execution_count": 10,
      "outputs": [
        {
          "output_type": "display_data",
          "data": {
            "image/png": "[encoded data removed]",
            "text/plain": [
              "<Figure size 720x360 with 1 Axes>"
            ]
          },
          "metadata": {
            "tags": [],
            "needs_background": "light"
          }
        }
      ]
    },
    {
      "cell_type": "markdown",
      "metadata": {
        "id": "oaXu4zL6XRDU"
      },
      "source": [
        "# **Insights:**\n",
        "> Minimum score is 17. It is scored by only one person. \n",
        "\n",
        "> Maximum score is 95. It is scored by only one person.\n",
        "\n",
        "> 30 marks are scored by 3 students.\n",
        "\n",
        "**Descriptive Statistics**\n",
        "\n",
        ">Mean\t51.48\n",
        "\n",
        ">Standard Deviation\t25.2869\n",
        "\n",
        ">Variance\t639.4267\n",
        "\n",
        ">Sum\t1287\n",
        "\n",
        ">Skewness\t0.2197\n",
        "\n",
        ">Kurtosis\t-1.4016\n",
        "\n",
        ">Coefficient of Variation\t0.4912\n",
        "\n",
        "**Quantile Statistics**\n",
        "\n",
        ">Minimum\t17\n",
        "\n",
        ">5-th Percentile\t20.2\n",
        "\n",
        ">Q1\t30\n",
        "\n",
        ">Median\t47\n",
        "\n",
        ">Q3\t75\n",
        "\n",
        ">95-th Percentile\t87.6\n",
        "\n",
        ">Maximum\t95\n",
        "\n",
        "\n",
        "\n",
        ">Range\t78\n",
        "\n",
        ">IQR\t45\n",
        "\n"
      ]
    },
    {
      "cell_type": "markdown",
      "metadata": {
        "id": "HsAE_Vxug6HH"
      },
      "source": [
        "# **Bivariate Analysis:**"
      ]
    },
    {
      "cell_type": "markdown",
      "metadata": {
        "id": "Ik0aX8k9hB9q"
      },
      "source": [
        "#### **Relationship between Hours and Scores**"
      ]
    },
    {
      "cell_type": "code",
      "metadata": {
        "colab": {
          "base_uri": "https://localhost:8080/",
          "height": 578
        },
        "id": "w3QJpV4da-iL",
        "outputId": "f854f648-a1a1-4336-e082-caf46bf7c27e"
      },
      "source": [
        "plt.figure(figsize=(15,8))\n",
        "sns.scatterplot(data.Hours,data.Scores,s=80,color=\"tomato\", marker=\"o\")\n",
        "plt.title('Relationship between Hours and Scores',fontsize=20)\n",
        "plt.xlabel('Hours',fontsize=15)\n",
        "plt.ylabel('Scores',fontsize=15)\n",
        "plt.show()\n"
      ],
      "execution_count": 11,
      "outputs": [
        {
          "output_type": "stream",
          "text": [
            "/usr/local/lib/python3.7/dist-packages/seaborn/_decorators.py:43: FutureWarning: Pass the following variables as keyword args: x, y. From version 0.12, the only valid positional argument will be `data`, and passing other arguments without an explicit keyword will result in an error or misinterpretation.\n",
            "  FutureWarning\n"
          ],
          "name": "stderr"
        },
        {
          "output_type": "display_data",
          "data": {
            "image/png": "[encoded data removed]",
            "text/plain": [
              "<Figure size 1080x576 with 1 Axes>"
            ]
          },
          "metadata": {
            "tags": [],
            "needs_background": "light"
          }
        }
      ]
    },
    {
      "cell_type": "markdown",
      "metadata": {
        "id": "fuYqHy5jdWYs"
      },
      "source": [
        "# **Insights:**\n",
        "> These two variables have a positive association.\n",
        "\n",
        "> Wherever Time increases there automatically Score increases.\n",
        "\n",
        "> The above tomato color circles are represented as correlation between the hours and scores"
      ]
    },
    {
      "cell_type": "markdown",
      "metadata": {
        "id": "Y1Q20pUWhK-d"
      },
      "source": [
        "# Multi-Variate Analysis"
      ]
    },
    {
      "cell_type": "code",
      "metadata": {
        "colab": {
          "base_uri": "https://localhost:8080/",
          "height": 0
        },
        "id": "t4Les9Aje254",
        "outputId": "19a539d8-b68b-4417-ff0e-bcdb54f41bae"
      },
      "source": [
        "\n",
        "sns.pairplot(data)\n",
        "plt.show()"
      ],
      "execution_count": 12,
      "outputs": [
        {
          "output_type": "display_data",
          "data": {
            "image/png": "[encoded data removed]",
            "text/plain": [
              "<Figure size 360x360 with 6 Axes>"
            ]
          },
          "metadata": {
            "tags": [],
            "needs_background": "light"
          }
        }
      ]
    },
    {
      "cell_type": "markdown",
      "metadata": {
        "id": "kWvrfXIt68Es"
      },
      "source": [
        "# **correlation between Hours and Scores**"
      ]
    },
    {
      "cell_type": "code",
      "metadata": {
        "colab": {
          "base_uri": "https://localhost:8080/",
          "height": 0
        },
        "id": "QWNxWJWs50LK",
        "outputId": "74affc10-1536-4cf4-e4b6-c0dbb52bcfef"
      },
      "source": [
        "data.corr()"
      ],
      "execution_count": 13,
      "outputs": [
        {
          "output_type": "execute_result",
          "data": {
            "text/html": [
              "<div>\n",
              "<style scoped>\n",
              "    .dataframe tbody tr th:only-of-type {\n",
              "        vertical-align: middle;\n",
              "    }\n",
              "\n",
              "    .dataframe tbody tr th {\n",
              "        vertical-align: top;\n",
              "    }\n",
              "\n",
              "    .dataframe thead th {\n",
              "        text-align: right;\n",
              "    }\n",
              "</style>\n",
              "<table border=\"1\" class=\"dataframe\">\n",
              "  <thead>\n",
              "    <tr style=\"text-align: right;\">\n",
              "      <th></th>\n",
              "      <th>Hours</th>\n",
              "      <th>Scores</th>\n",
              "    </tr>\n",
              "  </thead>\n",
              "  <tbody>\n",
              "    <tr>\n",
              "      <th>Hours</th>\n",
              "      <td>1.000000</td>\n",
              "      <td>0.976191</td>\n",
              "    </tr>\n",
              "    <tr>\n",
              "      <th>Scores</th>\n",
              "      <td>0.976191</td>\n",
              "      <td>1.000000</td>\n",
              "    </tr>\n",
              "  </tbody>\n",
              "</table>\n",
              "</div>"
            ],
            "text/plain": [
              "           Hours    Scores\n",
              "Hours   1.000000  0.976191\n",
              "Scores  0.976191  1.000000"
            ]
          },
          "metadata": {
            "tags": []
          },
          "execution_count": 13
        }
      ]
    },
    {
      "cell_type": "markdown",
      "metadata": {
        "id": "88CaMdW57HTz"
      },
      "source": [
        "They are correlated 97 percent each other."
      ]
    },
    {
      "cell_type": "markdown",
      "metadata": {
        "id": "TUWpzLllh04Q"
      },
      "source": [
        "# **Model Buliding:**"
      ]
    },
    {
      "cell_type": "code",
      "metadata": {
        "id": "Y6N5xOxzhxKM",
        "colab": {
          "base_uri": "https://localhost:8080/",
          "height": 0
        },
        "outputId": "053dcc13-dd49-4001-b2f6-b4dcb082e076"
      },
      "source": [
        "import statsmodels.api as sm\n",
        "# Add constant term of 1 to the dataset\n",
        "X = sm.add_constant(data['Hours'])\n",
        "X.head(5)\n"
      ],
      "execution_count": 14,
      "outputs": [
        {
          "output_type": "stream",
          "text": [
            "/usr/local/lib/python3.7/dist-packages/statsmodels/tools/_testing.py:19: FutureWarning: pandas.util.testing is deprecated. Use the functions in the public API at pandas.testing instead.\n",
            "  import pandas.util.testing as tm\n"
          ],
          "name": "stderr"
        },
        {
          "output_type": "execute_result",
          "data": {
            "text/html": [
              "<div>\n",
              "<style scoped>\n",
              "    .dataframe tbody tr th:only-of-type {\n",
              "        vertical-align: middle;\n",
              "    }\n",
              "\n",
              "    .dataframe tbody tr th {\n",
              "        vertical-align: top;\n",
              "    }\n",
              "\n",
              "    .dataframe thead th {\n",
              "        text-align: right;\n",
              "    }\n",
              "</style>\n",
              "<table border=\"1\" class=\"dataframe\">\n",
              "  <thead>\n",
              "    <tr style=\"text-align: right;\">\n",
              "      <th></th>\n",
              "      <th>const</th>\n",
              "      <th>Hours</th>\n",
              "    </tr>\n",
              "  </thead>\n",
              "  <tbody>\n",
              "    <tr>\n",
              "      <th>0</th>\n",
              "      <td>1.0</td>\n",
              "      <td>2.5</td>\n",
              "    </tr>\n",
              "    <tr>\n",
              "      <th>1</th>\n",
              "      <td>1.0</td>\n",
              "      <td>5.1</td>\n",
              "    </tr>\n",
              "    <tr>\n",
              "      <th>2</th>\n",
              "      <td>1.0</td>\n",
              "      <td>3.2</td>\n",
              "    </tr>\n",
              "    <tr>\n",
              "      <th>3</th>\n",
              "      <td>1.0</td>\n",
              "      <td>8.5</td>\n",
              "    </tr>\n",
              "    <tr>\n",
              "      <th>4</th>\n",
              "      <td>1.0</td>\n",
              "      <td>3.5</td>\n",
              "    </tr>\n",
              "  </tbody>\n",
              "</table>\n",
              "</div>"
            ],
            "text/plain": [
              "   const  Hours\n",
              "0    1.0    2.5\n",
              "1    1.0    5.1\n",
              "2    1.0    3.2\n",
              "3    1.0    8.5\n",
              "4    1.0    3.5"
            ]
          },
          "metadata": {
            "tags": []
          },
          "execution_count": 14
        }
      ]
    },
    {
      "cell_type": "code",
      "metadata": {
        "id": "Y6OE_o6WhxFn",
        "colab": {
          "base_uri": "https://localhost:8080/"
        },
        "outputId": "c58c93c7-4304-4ec1-badf-e18a72a0badd"
      },
      "source": [
        "Y = data['Scores']\n",
        "Y.head(5)"
      ],
      "execution_count": 15,
      "outputs": [
        {
          "output_type": "execute_result",
          "data": {
            "text/plain": [
              "0    21\n",
              "1    47\n",
              "2    27\n",
              "3    75\n",
              "4    30\n",
              "Name: Scores, dtype: int64"
            ]
          },
          "metadata": {
            "tags": []
          },
          "execution_count": 15
        }
      ]
    },
    {
      "cell_type": "markdown",
      "metadata": {
        "id": "LbNLIYVkHvIH"
      },
      "source": [
        "# **Splitting the Dataset into Training and Validation Sets**\n",
        "**train_test_split() The method returns four variables as below.**\n",
        "1. train_X contains X features of the training set.\n",
        "2. train_y contains the values of response variable for the training set.\n",
        "3. test_X contains X features of the test set.\n",
        "4. test_y contains the values of response variable for the test set."
      ]
    },
    {
      "cell_type": "code",
      "metadata": {
        "id": "LRopSBFBv1fL"
      },
      "source": [
        "from sklearn.model_selection import train_test_split\n",
        "# Split dataset into train and test set into 80:20 respectively\n",
        "train_X, test_X, train_y, test_y = train_test_split( X,Y,train_size = 0.8,random_state = 100 )"
      ],
      "execution_count": 16,
      "outputs": []
    },
    {
      "cell_type": "markdown",
      "metadata": {
        "id": "2o_Ecg8KHyVb"
      },
      "source": [
        "train_size = 0.8 implies 80% of the data is used for training the model and the remaining 20% is used for\n",
        "validating the model."
      ]
    },
    {
      "cell_type": "markdown",
      "metadata": {
        "id": "v46WJQiCHcMc"
      },
      "source": [
        "# **Fitting the Model**\n",
        "We will fit the model using OLS method and pass train_y and train_X as parameters."
      ]
    },
    {
      "cell_type": "code",
      "metadata": {
        "id": "Y-7xeVDTwIdh"
      },
      "source": [
        "# Fit the regression model\n",
        "Student_Score = sm.OLS( train_y, train_X ).fit()"
      ],
      "execution_count": 17,
      "outputs": []
    },
    {
      "cell_type": "markdown",
      "metadata": {
        "id": "lj2tqYKzHgq8"
      },
      "source": [
        "The fit() method on OLS() estimates the parameters and returns model information to the variable mba_\n",
        "salary_lm, which contains the model parameters, accuracy measures, and residual values among other details."
      ]
    },
    {
      "cell_type": "code",
      "metadata": {
        "colab": {
          "base_uri": "https://localhost:8080/"
        },
        "id": "n_8R-G9cwU5b",
        "outputId": "410200d5-6d18-42c5-f2b2-e6e1a12ee56b"
      },
      "source": [
        "Student_Score"
      ],
      "execution_count": 18,
      "outputs": [
        {
          "output_type": "execute_result",
          "data": {
            "text/plain": [
              "<statsmodels.regression.linear_model.RegressionResultsWrapper at 0x7fd00281d510>"
            ]
          },
          "metadata": {
            "tags": []
          },
          "execution_count": 18
        }
      ]
    },
    {
      "cell_type": "markdown",
      "metadata": {
        "id": "Pc_mA6BByB-8"
      },
      "source": [
        "# Regression Model Summary Using Python"
      ]
    },
    {
      "cell_type": "code",
      "metadata": {
        "colab": {
          "base_uri": "https://localhost:8080/",
          "height": 0
        },
        "id": "nN6cNOMvwtQm",
        "outputId": "e579d1fc-9d51-4ee8-c9ca-81d900ac08ab"
      },
      "source": [
        "Student_Score.summary2()"
      ],
      "execution_count": 19,
      "outputs": [
        {
          "output_type": "execute_result",
          "data": {
            "text/html": [
              "<table class=\"simpletable\">\n",
              "<tr>\n",
              "        <td>Model:</td>               <td>OLS</td>         <td>Adj. R-squared:</td>     <td>0.949</td> \n",
              "</tr>\n",
              "<tr>\n",
              "  <td>Dependent Variable:</td>      <td>Scores</td>             <td>AIC:</td>         <td>129.4489</td>\n",
              "</tr>\n",
              "<tr>\n",
              "         <td>Date:</td>        <td>2021-08-13 07:26</td>        <td>BIC:</td>         <td>131.4403</td>\n",
              "</tr>\n",
              "<tr>\n",
              "   <td>No. Observations:</td>         <td>20</td>          <td>Log-Likelihood:</td>    <td>-62.724</td>\n",
              "</tr>\n",
              "<tr>\n",
              "       <td>Df Model:</td>              <td>1</td>           <td>F-statistic:</td>       <td>356.7</td> \n",
              "</tr>\n",
              "<tr>\n",
              "     <td>Df Residuals:</td>           <td>18</td>        <td>Prob (F-statistic):</td> <td>2.59e-13</td>\n",
              "</tr>\n",
              "<tr>\n",
              "      <td>R-squared:</td>            <td>0.952</td>            <td>Scale:</td>         <td>34.464</td> \n",
              "</tr>\n",
              "</table>\n",
              "<table class=\"simpletable\">\n",
              "<tr>\n",
              "    <td></td>     <th>Coef.</th> <th>Std.Err.</th>    <th>t</th>     <th>P>|t|</th> <th>[0.025</th>  <th>0.975]</th> \n",
              "</tr>\n",
              "<tr>\n",
              "  <th>const</th> <td>1.9894</td>  <td>3.1059</td>  <td>0.6405</td>  <td>0.5299</td> <td>-4.5359</td> <td>8.5147</td> \n",
              "</tr>\n",
              "<tr>\n",
              "  <th>Hours</th> <td>9.8354</td>  <td>0.5208</td>  <td>18.8855</td> <td>0.0000</td> <td>8.7413</td>  <td>10.9296</td>\n",
              "</tr>\n",
              "</table>\n",
              "<table class=\"simpletable\">\n",
              "<tr>\n",
              "     <td>Omnibus:</td>     <td>7.040</td>  <td>Durbin-Watson:</td>   <td>2.025</td>\n",
              "</tr>\n",
              "<tr>\n",
              "  <td>Prob(Omnibus):</td>  <td>0.030</td> <td>Jarque-Bera (JB):</td> <td>1.943</td>\n",
              "</tr>\n",
              "<tr>\n",
              "       <td>Skew:</td>     <td>-0.248</td>     <td>Prob(JB):</td>     <td>0.379</td>\n",
              "</tr>\n",
              "<tr>\n",
              "     <td>Kurtosis:</td>    <td>1.556</td>  <td>Condition No.:</td>    <td>14</td>  \n",
              "</tr>\n",
              "</table>"
            ],
            "text/plain": [
              "<class 'statsmodels.iolib.summary2.Summary'>\n",
              "\"\"\"\n",
              "                 Results: Ordinary least squares\n",
              "=================================================================\n",
              "Model:              OLS              Adj. R-squared:     0.949   \n",
              "Dependent Variable: Scores           AIC:                129.4489\n",
              "Date:               2021-08-13 07:26 BIC:                131.4403\n",
              "No. Observations:   20               Log-Likelihood:     -62.724 \n",
              "Df Model:           1                F-statistic:        356.7   \n",
              "Df Residuals:       18               Prob (F-statistic): 2.59e-13\n",
              "R-squared:          0.952            Scale:              34.464  \n",
              "-------------------------------------------------------------------\n",
              "           Coef.    Std.Err.      t      P>|t|     [0.025    0.975]\n",
              "-------------------------------------------------------------------\n",
              "const      1.9894     3.1059    0.6405   0.5299   -4.5359    8.5147\n",
              "Hours      9.8354     0.5208   18.8855   0.0000    8.7413   10.9296\n",
              "-----------------------------------------------------------------\n",
              "Omnibus:               7.040        Durbin-Watson:          2.025\n",
              "Prob(Omnibus):         0.030        Jarque-Bera (JB):       1.943\n",
              "Skew:                  -0.248       Prob(JB):               0.379\n",
              "Kurtosis:              1.556        Condition No.:          14   \n",
              "=================================================================\n",
              "\n",
              "\"\"\""
            ]
          },
          "metadata": {
            "tags": []
          },
          "execution_count": 19
        }
      ]
    },
    {
      "cell_type": "markdown",
      "metadata": {
        "id": "456UMCEgy1DW"
      },
      "source": [
        "From the summary output shown in Table 4.2, we can infer the following:\n",
        "1. The model R-squared value is \t0.952, that is, the model explains 95.2% of the variation in Score.\n",
        "\n",
        "2. The p-value for the t-test is \t0.000 which indicates that there is a statistically significant relation-\n",
        "ship (at significance value a = 0.05) between the feature, Hours, and Score.\n",
        "\n",
        "Also, the probability value of F-statistic of the model is 0.000 which indicates that the overall model is statistically significant. Note that, in a simple linear regression, the p-value for t-test and F-test will be the same since the null hypothesis is the same. (Also F = t2 in the case of SLR.)"
      ]
    },
    {
      "cell_type": "markdown",
      "metadata": {
        "id": "h-cg9hiO0i09"
      },
      "source": [
        "# Residual Analysis:\n",
        "Residuals or errors are the difference between the actual value of the outcome variable and the predicted\n",
        "value (Yi-Yihat) . Residual (error) analysis is important to check whether the assumptions of regression\n",
        "models have been satisfied. It is performed to check the following:\n",
        "1. The residuals are normally distributed.\n",
        "2. Variance of residual is constant (homoscedasticity).\n",
        "3. The functional form of regression is correctly specified.\n",
        "4. There are no outliers."
      ]
    },
    {
      "cell_type": "markdown",
      "metadata": {
        "id": "nJYtsLJR27gZ"
      },
      "source": [
        "### **1 Check for Normal Distribution of Residual**"
      ]
    },
    {
      "cell_type": "markdown",
      "metadata": {
        "id": "KFu8Pjwr3HXt"
      },
      "source": [
        "The normality of residuals can be checked using the probability−probability plot (P-P plot). P-P plot\n",
        "compares the cumulative distribution function of two probability distributions against each other. In\n",
        "the current context, we use the P-P plot to check whether the distribution of the residuals matches with\n",
        "that of a normal distribution."
      ]
    },
    {
      "cell_type": "code",
      "metadata": {
        "colab": {
          "base_uri": "https://localhost:8080/",
          "height": 0
        },
        "id": "QZ1C4eG8zxLS",
        "outputId": "683d2f91-1e34-49b4-ab63-9d32b748642a"
      },
      "source": [
        "Student_Score_resid = Student_Score.resid\n",
        "probplot = sm.ProbPlot(Student_Score_resid)\n",
        "plt.figure( figsize = (8, 6))\n",
        "probplot.ppplot( line='45' )\n",
        "plt.title( ' Normal P-P Plot of Regression Standardized Residuals' )\n",
        "plt.show()"
      ],
      "execution_count": 20,
      "outputs": [
        {
          "output_type": "display_data",
          "data": {
            "text/plain": [
              "<Figure size 576x432 with 0 Axes>"
            ]
          },
          "metadata": {
            "tags": []
          }
        },
        {
          "output_type": "display_data",
          "data": {
            "image/png": "[encoded data removed]",
            "text/plain": [
              "<Figure size 432x288 with 1 Axes>"
            ]
          },
          "metadata": {
            "tags": [],
            "needs_background": "light"
          }
        }
      ]
    },
    {
      "cell_type": "markdown",
      "metadata": {
        "id": "n4ljVJ5P34yr"
      },
      "source": [
        "# Insights:\n",
        "The diagonal line is the cumulative distribution of a normal distribution, whereas the dots\n",
        "represent the cumulative distribution of the residuals. Since the dots are close to the diagonal line, we can\n",
        "conclude that the residuals follow an approximate normal distribution.\n"
      ]
    },
    {
      "cell_type": "markdown",
      "metadata": {
        "id": "_qM60pK_5RV2"
      },
      "source": [
        "**2 Test of Homoscedasticity**\n",
        "\n",
        "An important assumption of the regression model is that the residuals have constant variance (homoscedasticity) across different values of the predicted value (Y). The homoscedasticity can be observed by drawing a residual plot, which is a plot between standardized residual value and standardized predicted value."
      ]
    },
    {
      "cell_type": "code",
      "metadata": {
        "id": "Pip3Y3BR4A5S"
      },
      "source": [
        "def get_standardized_values( vals ):\n",
        "  return (vals - vals.mean())/vals.std()"
      ],
      "execution_count": 21,
      "outputs": []
    },
    {
      "cell_type": "code",
      "metadata": {
        "colab": {
          "base_uri": "https://localhost:8080/",
          "height": 0
        },
        "id": "2ZoeZRWm5ugX",
        "outputId": "40a7b884-b509-4820-8178-a9d5b9121353"
      },
      "source": [
        "plt.scatter( get_standardized_values( Student_Score.fittedvalues),get_standardized_values(Student_Score_resid))\n",
        "\n",
        "plt.title(' Residual Plot: MBA Salary Prediction');\n",
        "plt.xlabel('Standardized predicted values')\n",
        "plt.ylabel('Standardized Residuals');"
      ],
      "execution_count": 22,
      "outputs": [
        {
          "output_type": "display_data",
          "data": {
            "image/png": "[encoded data removed]",
            "text/plain": [
              "<Figure size 432x288 with 1 Axes>"
            ]
          },
          "metadata": {
            "tags": [],
            "needs_background": "light"
          }
        }
      ]
    },
    {
      "cell_type": "markdown",
      "metadata": {
        "id": "OOWowKRo6Wre"
      },
      "source": [
        "# **Insights:**\n",
        " The residuals are random and have no funnel shape, which means\n",
        "the residuals have constant variance (homoscedasticity)."
      ]
    },
    {
      "cell_type": "markdown",
      "metadata": {
        "id": "NRfiErrt9TTt"
      },
      "source": [
        "# Making Prediction and Measuring Accuracy:\n",
        "\n",
        "Ideally, the prediction should be made on the validation (or test) data and the accuracy of prediction\n",
        "should be evaluated."
      ]
    },
    {
      "cell_type": "markdown",
      "metadata": {
        "id": "uGzYyiDr9cTa"
      },
      "source": [
        "# **1 Predicting using the Validation Set:**\n",
        "\n",
        "The model variable has a method predict(), which takes the X parameters and returns the predicted values.\n"
      ]
    },
    {
      "cell_type": "code",
      "metadata": {
        "id": "d-hcl1kg8n-x"
      },
      "source": [
        "pred_y = Student_Score.predict( test_X )\n"
      ],
      "execution_count": 23,
      "outputs": []
    },
    {
      "cell_type": "markdown",
      "metadata": {
        "id": "orW2X0sezwgl"
      },
      "source": [
        "**pred_y variable contains the predicted value. We can compare the predicted values with the actual values**"
      ]
    },
    {
      "cell_type": "code",
      "metadata": {
        "colab": {
          "base_uri": "https://localhost:8080/",
          "height": 0
        },
        "id": "pjsA9b-__143",
        "outputId": "7fbf9533-be71-457b-c222-6ac35e8d8394"
      },
      "source": [
        "df_scores_comp = pd.DataFrame({'Actual':test_y, 'Predicted':pred_y})\n",
        "df_scores_comp"
      ],
      "execution_count": 24,
      "outputs": [
        {
          "output_type": "execute_result",
          "data": {
            "text/html": [
              "<div>\n",
              "<style scoped>\n",
              "    .dataframe tbody tr th:only-of-type {\n",
              "        vertical-align: middle;\n",
              "    }\n",
              "\n",
              "    .dataframe tbody tr th {\n",
              "        vertical-align: top;\n",
              "    }\n",
              "\n",
              "    .dataframe thead th {\n",
              "        text-align: right;\n",
              "    }\n",
              "</style>\n",
              "<table border=\"1\" class=\"dataframe\">\n",
              "  <thead>\n",
              "    <tr style=\"text-align: right;\">\n",
              "      <th></th>\n",
              "      <th>Actual</th>\n",
              "      <th>Predicted</th>\n",
              "    </tr>\n",
              "  </thead>\n",
              "  <tbody>\n",
              "    <tr>\n",
              "      <th>9</th>\n",
              "      <td>25</td>\n",
              "      <td>28.545123</td>\n",
              "    </tr>\n",
              "    <tr>\n",
              "      <th>22</th>\n",
              "      <td>35</td>\n",
              "      <td>39.364112</td>\n",
              "    </tr>\n",
              "    <tr>\n",
              "      <th>13</th>\n",
              "      <td>42</td>\n",
              "      <td>34.446390</td>\n",
              "    </tr>\n",
              "    <tr>\n",
              "      <th>11</th>\n",
              "      <td>62</td>\n",
              "      <td>60.018545</td>\n",
              "    </tr>\n",
              "    <tr>\n",
              "      <th>5</th>\n",
              "      <td>20</td>\n",
              "      <td>16.742590</td>\n",
              "    </tr>\n",
              "  </tbody>\n",
              "</table>\n",
              "</div>"
            ],
            "text/plain": [
              "    Actual  Predicted\n",
              "9       25  28.545123\n",
              "22      35  39.364112\n",
              "13      42  34.446390\n",
              "11      62  60.018545\n",
              "5       20  16.742590"
            ]
          },
          "metadata": {
            "tags": []
          },
          "execution_count": 24
        }
      ]
    },
    {
      "cell_type": "markdown",
      "metadata": {
        "id": "1e0-Rj3tzQMS"
      },
      "source": [
        "Finding R-Squared and RMSE for testing Data:"
      ]
    },
    {
      "cell_type": "code",
      "metadata": {
        "id": "Z3vKgiqDzh_Y"
      },
      "source": [
        "from sklearn.metrics import r2_score, mean_squared_error"
      ],
      "execution_count": 25,
      "outputs": []
    },
    {
      "cell_type": "code",
      "metadata": {
        "colab": {
          "base_uri": "https://localhost:8080/"
        },
        "id": "JT4RrYHh0BRm",
        "outputId": "6f416ea8-ea5c-4eb2-d2fb-12d34e321b22"
      },
      "source": [
        "np.abs(r2_score(test_y, pred_y))"
      ],
      "execution_count": 26,
      "outputs": [
        {
          "output_type": "execute_result",
          "data": {
            "text/plain": [
              "0.9050356232459792"
            ]
          },
          "metadata": {
            "tags": []
          },
          "execution_count": 26
        }
      ]
    },
    {
      "cell_type": "code",
      "metadata": {
        "colab": {
          "base_uri": "https://localhost:8080/"
        },
        "id": "miuCbZVG2TnM",
        "outputId": "c5ef4c32-233b-4499-e6c1-a3065db842e7"
      },
      "source": [
        "np.sqrt(mean_squared_error(test_y, pred_y))"
      ],
      "execution_count": 27,
      "outputs": [
        {
          "output_type": "execute_result",
          "data": {
            "text/plain": [
              "4.5432870183661045"
            ]
          },
          "metadata": {
            "tags": []
          },
          "execution_count": 27
        }
      ]
    },
    {
      "cell_type": "markdown",
      "metadata": {
        "id": "5NWOoRF-GFur"
      },
      "source": [
        "# **What will be predicted score if a student studies for 9.25 hrs/ day?**"
      ]
    },
    {
      "cell_type": "markdown",
      "metadata": {
        "id": "y3_-0BerGVg0"
      },
      "source": [
        "# **Answer:**"
      ]
    },
    {
      "cell_type": "markdown",
      "metadata": {
        "id": "ChY8g3H9ISOY"
      },
      "source": [
        "# **Printing Estimated Parameters and Interpreting Them**"
      ]
    },
    {
      "cell_type": "code",
      "metadata": {
        "colab": {
          "base_uri": "https://localhost:8080/"
        },
        "id": "OVyCrmnxwb23",
        "outputId": "ef56cef5-d7d4-42b5-ae01-1c8953812c6e"
      },
      "source": [
        "print(Student_Score.params )"
      ],
      "execution_count": 28,
      "outputs": [
        {
          "output_type": "stream",
          "text": [
            "const    1.989423\n",
            "Hours    9.835444\n",
            "dtype: float64\n"
          ],
          "name": "stdout"
        }
      ]
    },
    {
      "cell_type": "markdown",
      "metadata": {
        "id": "EtnmX7DtIYr6"
      },
      "source": [
        "## **y=mx+c**\n",
        "- m=9.83544,\n",
        "\n",
        "- x=9.25,\n",
        "\n",
        "- c=1.989"
      ]
    },
    {
      "cell_type": "code",
      "metadata": {
        "id": "_eB3XqWjwsiu"
      },
      "source": [
        "Score = 1.98942 + 9.835444 * (9.25)"
      ],
      "execution_count": 29,
      "outputs": []
    },
    {
      "cell_type": "code",
      "metadata": {
        "colab": {
          "base_uri": "https://localhost:8080/"
        },
        "id": "ykPbA0EewtKg",
        "outputId": "884aeeed-f423-4ec4-88e1-1ad91e7c790e"
      },
      "source": [
        "Score"
      ],
      "execution_count": 30,
      "outputs": [
        {
          "output_type": "execute_result",
          "data": {
            "text/plain": [
              "92.967277"
            ]
          },
          "metadata": {
            "tags": []
          },
          "execution_count": 30
        }
      ]
    },
    {
      "cell_type": "markdown",
      "metadata": {
        "id": "5bXTEjxxGyXD"
      },
      "source": [
        "**If a student studies 9.25 hrs/day, the score will be 92.96**"
      ]
    },
    {
      "cell_type": "markdown",
      "metadata": {
        "id": "AOD2WxSTzEo5"
      },
      "source": [
        "# **Conculsion:**\n",
        "For the give data, I bulid the Superivsed Simple Linear Regression machine learning model. With this model, i predicted the if the student learns 9.25 hours/day, they we will get 92.96 score."
      ]
    }
  ]
}